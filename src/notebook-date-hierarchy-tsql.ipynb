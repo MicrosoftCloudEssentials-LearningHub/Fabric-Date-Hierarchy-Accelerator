{
 "cells": [
  {
   "cell_type": "markdown",
   "id": "b4d9c39f",
   "metadata": {},
   "source": [
    "# Fabric Date Table Generator (T-SQL Approach)\n",
    "\n",
    "This notebook generates a dynamic date table using T-SQL, suitable for Microsoft Fabric Lakehouse, Synapse, or Power BI Direct Lake scenarios."
   ]
  },
  {
   "cell_type": "markdown",
   "id": "56ba9893",
   "metadata": {},
   "source": [
    "## Parameters\n",
    "\n",
    "Define the parameters for the date table generation. Adjust as needed:\n",
    "- **StartDate**: First date in the table (YYYY-MM-DD)\n",
    "- **EndDate**: Last date in the table (YYYY-MM-DD)\n",
    "- **FiscalYearStartMonth**: Month (1-12) when the fiscal year starts\n",
    "- **HolidayDates**: Comma-separated list of holiday dates (YYYY-MM-DD) to flag in the table"
   ]
  },
  {
   "cell_type": "code",
   "execution_count": null,
   "id": "0e3a03c5-a29f-45a5-a18a-1d2ce68ad5b0",
   "metadata": {
    "microsoft": {
     "language": "sql",
     "language_group": "sqldatawarehouse"
    }
   },
   "outputs": [
    {
     "data": {
      "application/vnd.sqldw.statement-meta+json": {
       "batch_id": "44ff731c-2aaa-4566-a07f-5948478806a4@f7eebbe3-9089-4bdc-be09-c42156b41bc7$2025-07-08T19:53:29.3372870Z@e90eb340-bc45-46d8-a736-5d3b8e6a76d2",
       "commands": [
        {
         "$type": "ExecuteSqlTrackedCommand",
         "clientAppName": "Notebook",
         "queryMaxRows": 10000,
         "schemaOnly": false,
         "sqlScript": "-- Parameters\nDECLARE @StartDate DATE = '2015-01-01';\nDECLARE @EndDate DATE = '2030-12-31';\nDECLARE @FiscalYearStartMonth INT = 7; -- July\nDECLARE @HolidayDates NVARCHAR(MAX) = '2025-01-01,2025-12-25';"
        }
       ],
       "created_at": "2025-07-08T19:53:29.337287Z",
       "end_date_time_utc": "2025-07-08T19:53:30.2105033Z",
       "is_cancel": false,
       "root_activity_id": "778eb09d-42e7-4b7a-8247-2efd1cc7a38b",
       "session_id": "840f17e6-c425-44c9-9d00-b82f791ee563",
       "sqldw_state": "success",
       "start_date_time_utc": "2025-07-08T19:53:29.1672099Z",
       "updated_at": "2025-07-08T19:53:30.07167Z"
      }
     },
     "metadata": {},
     "output_type": "display_data"
    },
    {
     "data": {
      "application/vnd.sqldw.statement-message+json": {
       "end_date_time_utc": "2025-07-08T19:53:30.2105033Z",
       "message_list": [
        {
         "$type": null,
         "connectionId": null,
         "data": null,
         "durationMilliseconds": 11,
         "exceptionMessage": null,
         "executeSqlState": "success",
         "recordsAffected": 0,
         "resultType": "queryDurationMessage",
         "schema": null
        },
        {
         "$type": null,
         "connectionId": null,
         "data": null,
         "exceptionMessage": null,
         "executeSqlState": "success",
         "recordsAffected": 0,
         "resultType": "shouldRefresh",
         "schema": null
        }
       ],
       "start_date_time_utc": "2025-07-08T19:53:29.1672099Z"
      }
     },
     "metadata": {},
     "output_type": "display_data"
    }
   ],
   "source": [
    "-- Parameters\n",
    "-- Replace scalar variables with inline values for Microsoft Fabric compatibility\n",
    "-- StartDate and EndDate\n",
    "WITH DateParameters AS (\n",
    "    SELECT\n",
    "        CAST('2015-01-01' AS DATE) AS StartDate,\n",
    "        CAST('2030-12-31' AS DATE) AS EndDate,\n",
    "        7 AS FiscalYearStartMonth,\n",
    "        '2025-01-01,2025-12-25' AS HolidayDates\n",
    ")\n",
    "SELECT * FROM DateParameters;"
   ]
  },
  {
   "cell_type": "markdown",
   "id": "9ecd24a0",
   "metadata": {},
   "source": [
    "## Generate Date Table\n",
    "\n",
    "Use a CTAS (CREATE TABLE AS SELECT) pattern to generate the date range."
   ]
  },
  {
   "cell_type": "code",
   "execution_count": null,
   "id": "09c6c185",
   "metadata": {
    "microsoft": {
     "language": "sql",
     "language_group": "sqldatawarehouse"
    }
   },
   "outputs": [
    {
     "data": {
      "application/vnd.sqldw.statement-meta+json": {
       "batch_id": "44ff731c-2aaa-4566-a07f-5948478806a4@f7eebbe3-9089-4bdc-be09-c42156b41bc7$2025-07-08T19:53:30.3841630Z@10b42f7e-a0ca-40e4-85d6-1e5ef89ab3b4",
       "commands": [
        {
         "$type": "ExecuteSqlTrackedCommand",
         "clientAppName": "Notebook",
         "queryMaxRows": 10000,
         "schemaOnly": false,
         "sqlScript": "-- Generate date range using a recursive CTE\nWITH DateRange AS (\n    SELECT @StartDate AS [Date]\n    UNION ALL\n    SELECT DATEADD(DAY, 1, [Date])\n    FROM DateRange\n    WHERE [Date] < @EndDate\n)\nSELECT * INTO #DateTable FROM DateRange OPTION (MAXRECURSION 32767);\nSELECT COUNT(*) AS [RowCount] FROM #DateTable;"
        }
       ],
       "created_at": "2025-07-08T19:53:30.384163Z",
       "end_date_time_utc": "2025-07-08T19:53:30.79888Z",
       "is_cancel": false,
       "root_activity_id": "3ca7218a-b5f9-478d-840e-de05188609d4",
       "session_id": "840f17e6-c425-44c9-9d00-b82f791ee563",
       "sqldw_state": "success",
       "start_date_time_utc": "2025-07-08T19:53:30.3721836Z",
       "updated_at": "2025-07-08T19:53:30.7122907Z"
      }
     },
     "metadata": {},
     "output_type": "display_data"
    },
    {
     "data": {
      "application/vnd.sqldw.statement-message+json": {
       "end_date_time_utc": "2025-07-08T19:53:30.79888Z",
       "message_list": [
        {
         "$type": null,
         "connectionId": null,
         "data": null,
         "exceptionMessage": "Must declare the scalar variable \"@StartDate\".\r\nMust declare the scalar variable \"@EndDate\".\r\nQuery hint 'unknown hint' is not allowed.",
         "executeSqlState": "failure",
         "recordsAffected": 0,
         "resultType": "errorMessage",
         "schema": null,
         "sqlErrors": [
          {
           "messageText": "Must declare the scalar variable \"@StartDate\".",
           "messageType": 2,
           "sqlErrorClass": 15,
           "sqlErrorLineNumber": 3,
           "sqlErrorNumber": 137,
           "sqlErrorState": 2
          },
          {
           "messageText": "Must declare the scalar variable \"@EndDate\".",
           "messageType": 2,
           "sqlErrorClass": 15,
           "sqlErrorLineNumber": 7,
           "sqlErrorNumber": 137,
           "sqlErrorState": 2
          },
          {
           "messageText": "Query hint 'unknown hint' is not allowed.",
           "messageType": 2,
           "sqlErrorClass": 16,
           "sqlErrorLineNumber": 9,
           "sqlErrorNumber": 15874,
           "sqlErrorState": 2
          }
         ]
        }
       ],
       "start_date_time_utc": "2025-07-08T19:53:30.3721836Z"
      }
     },
     "metadata": {},
     "output_type": "display_data"
    },
    {
     "ename": "DatawarehouseExecuteSqlError",
     "evalue": "Must declare the scalar variable \"@StartDate\".\r\nMust declare the scalar variable \"@EndDate\".\r\nQuery hint 'unknown hint' is not allowed. Data warehouse trace id: e7678417-9e17-4bfa-a90f-0b6e251fa4a3",
     "output_type": "error",
     "traceback": []
    }
   ],
   "source": [
    "-- Generate date range using a numbers table approach for Lakehouse\n",
    "WITH Numbers AS (\n",
    "    SELECT ROW_NUMBER() OVER (ORDER BY (SELECT NULL)) AS n\n",
    "    FROM (VALUES (1), (1), (1), (1), (1), (1), (1), (1), (1), (1)) AS t1(n)\n",
    "         CROSS JOIN (VALUES (1), (1), (1), (1), (1), (1), (1), (1), (1), (1)) AS t2(n)\n",
    "         CROSS JOIN (VALUES (1), (1), (1), (1), (1), (1), (1), (1), (1), (1)) AS t3(n)\n",
    ")\n",
    "SELECT TOP (DATEDIFF(DAY, CAST('2015-01-01' AS DATE), CAST('2030-12-31' AS DATE)) + 1)\n",
    "    DATEADD(DAY, n - 1, CAST('2015-01-01' AS DATE)) AS [Date]\n",
    "INTO FabricLakehouse.DateRange\n",
    "FROM Numbers;\n",
    "\n",
    "-- Display the generated data\n",
    "SELECT TOP 10 * FROM FabricLakehouse.DateRange;"
   ]
  },
  {
   "cell_type": "markdown",
   "id": "c9b6e0fa",
   "metadata": {},
   "source": [
    "## Add Calendar and Fiscal Columns\n",
    "\n",
    "Add columns for year, month, quarter, fiscal year, fiscal month, and fiscal quarter."
   ]
  },
  {
   "cell_type": "code",
   "execution_count": null,
   "id": "b18feb55",
   "metadata": {
    "microsoft": {
     "language": "sql",
     "language_group": "sqldatawarehouse"
    }
   },
   "outputs": [],
   "source": [
    "-- Add calendar and fiscal columns\n",
    "CREATE TABLE DateTableEnriched AS\n",
    "SELECT\n",
    "    [Date],\n",
    "    YEAR([Date]) AS [Year],\n",
    "    MONTH([Date]) AS [Month],\n",
    "    DATENAME(MONTH, [Date]) AS [MonthName],\n",
    "    DAY([Date]) AS [Day],\n",
    "    DATEPART(QUARTER, [Date]) AS [Quarter],\n",
    "    DATEPART(WEEK, [Date]) AS [WeekOfYear],\n",
    "    DATENAME(WEEKDAY, [Date]) AS [DayOfWeekName],\n",
    "    DATEPART(WEEKDAY, [Date]) AS [DayOfWeek],\n",
    "    -- Fiscal Year logic\n",
    "    CASE WHEN MONTH([Date]) >= @FiscalYearStartMonth THEN YEAR([Date]) + 1 ELSE YEAR([Date]) END AS [FiscalYear],\n",
    "    ((MONTH([Date]) - @FiscalYearStartMonth + 12) % 12 + 1) AS [FiscalMonth],\n",
    "    (( ((MONTH([Date]) - @FiscalYearStartMonth + 12) % 12 ) / 3 ) + 1) AS [FiscalQuarter]\n",
    "FROM DateRange;"
   ]
  },
  {
   "cell_type": "markdown",
   "id": "26f3de87",
   "metadata": {},
   "source": [
    "## Flag Holidays and Current Dates\n",
    "\n",
    "Add columns to flag holidays and current day/month/year."
   ]
  },
  {
   "cell_type": "code",
   "execution_count": null,
   "id": "34f6b867",
   "metadata": {
    "microsoft": {
     "language": "sql",
     "language_group": "sqldatawarehouse"
    }
   },
   "outputs": [],
   "source": [
    "-- Split holiday dates into a table variable\n",
    "DECLARE @HolidayTable TABLE (HolidayDate DATE);\n",
    "INSERT INTO @HolidayTable (HolidayDate)\n",
    "SELECT value FROM STRING_SPLIT(@HolidayDates, ',');\n",
    "\n",
    "-- Add holiday and current date flags\n",
    "CREATE TABLE DateTableFinal AS\n",
    "SELECT *,\n",
    "    CASE WHEN [Date] IN (SELECT HolidayDate FROM @HolidayTable) THEN 1 ELSE 0 END AS [IsHoliday],\n",
    "    CASE WHEN [Date] = CAST(GETDATE() AS DATE) THEN 1 ELSE 0 END AS [IsCurrentDay],\n",
    "    CASE WHEN [Year] = YEAR(GETDATE()) AND [Month] = MONTH(GETDATE()) THEN 1 ELSE 0 END AS [IsCurrentMonth],\n",
    "    CASE WHEN [Year] = YEAR(GETDATE()) THEN 1 ELSE 0 END AS [IsCurrentYear]\n",
    "FROM DateTableEnriched;"
   ]
  },
  {
   "cell_type": "markdown",
   "id": "b22ca43f",
   "metadata": {},
   "source": [
    "## Write Date Table to SQL Database\n",
    "\n",
    "Persist the final date table to a permanent table. Adjust the schema/table name as needed."
   ]
  },
  {
   "cell_type": "code",
   "execution_count": null,
   "id": "6e324ae5",
   "metadata": {
    "microsoft": {
     "language": "sql",
     "language_group": "sqldatawarehouse"
    }
   },
   "outputs": [],
   "source": [
    "-- Write to permanent table (change schema/table name as needed)\n",
    "CREATE TABLE dbo.DateTable AS\n",
    "SELECT * FROM DateTableFinal;"
   ]
  },
  {
   "cell_type": "markdown",
   "id": "d5bc900f",
   "metadata": {},
   "source": [
    "## Testing & Validation\n",
    "\n",
    "Validate fiscal year logic and print sample output."
   ]
  },
  {
   "cell_type": "code",
   "execution_count": null,
   "id": "1b995b70",
   "metadata": {
    "microsoft": {
     "language": "sql",
     "language_group": "sqldatawarehouse"
    }
   },
   "outputs": [],
   "source": [
    "-- Test: Fiscal year boundary\n",
    "SELECT TOP 5 * FROM dbo.DateTable WHERE MONTH([Date]) = @FiscalYearStartMonth ORDER BY [Date];\n",
    "\n",
    "-- Show first and last few rows\n",
    "SELECT TOP 3 * FROM dbo.DateTable ORDER BY [Date];\n",
    "SELECT TOP 3 * FROM dbo.DateTable ORDER BY [Date] DESC;"
   ]
  }
 ],
 "metadata": {
  "dependencies": {
   "lakehouse": {
    "default_lakehouse": "e35ea3e4-dd41-48e9-9434-d23201328824",
    "default_lakehouse_name": "configlakehouse",
    "default_lakehouse_workspace_id": "ca9f657d-a7c1-4d66-b35b-c7385afc6bb8",
    "known_lakehouses": [
     {
      "id": "e35ea3e4-dd41-48e9-9434-d23201328824"
     }
    ]
   },
   "warehouse": {
    "default_warehouse": "44ff731c-2aaa-4566-a07f-5948478806a4",
    "known_warehouses": [
     {
      "id": "44ff731c-2aaa-4566-a07f-5948478806a4",
      "type": "Lakewarehouse"
     }
    ]
   }
  },
  "kernel_info": {
   "name": "sqldatawarehouse"
  },
  "kernelspec": {
   "display_name": "sqldatawarehouse",
   "name": "sqldatawarehouse"
  },
  "language_info": {
   "name": "sql"
  },
  "microsoft": {
   "language": "sql",
   "language_group": "sqldatawarehouse",
   "ms_spell_check": {
    "ms_spell_check_language": "en"
   }
  },
  "nteract": {
   "version": "nteract-front-end@1.0.0"
  },
  "spark_compute": {
   "compute_id": "/trident/default",
   "session_options": {
    "conf": {
     "spark.synapse.nbs.session.timeout": "1200000"
    }
   }
  }
 },
 "nbformat": 4,
 "nbformat_minor": 5
}
